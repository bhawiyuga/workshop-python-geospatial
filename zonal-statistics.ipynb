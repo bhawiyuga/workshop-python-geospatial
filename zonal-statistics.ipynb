{
 "cells": [
  {
   "cell_type": "markdown",
   "id": "d1d405df-4e35-4771-83e4-cc5c9fd9ebf0",
   "metadata": {},
   "source": [
    "# Calculating Zonal Statistics"
   ]
  },
  {
   "cell_type": "markdown",
   "id": "8f466263-e7a8-4216-9e0a-4b2f41753d9e",
   "metadata": {},
   "source": [
    "- Statistics on **predefined zones of raster data** are commonly used for analysis and understanding the data.\n",
    "- Zones are often provided within a single vector dataset, identified by vector attributes.\n",
    "- Example: Crop field polygon dataset used in previous episodes. **Fields with the same crop type** can be identified as a **zone** (multiple zones within one vector dataset).\n",
    "- Statistical analysis can be performed over these crop zones.\n",
    "- In this episode, the focus is on calculating **zonal statistics based on crop types**. Steps:\n",
    "  1. Identify zones from the vector data.\n",
    "  2. Rasterize the vector zones.\n",
    "  3. Calculate zonal statistics for **ndvi** over the rasterized zones.\n",
    "- Required files\n",
    "  1. fields_cropped.shp\n",
    "  2. NDVI.tif"
   ]
  },
  {
   "cell_type": "markdown",
   "id": "359c9153-8368-40c8-b35c-cbf16711bf1b",
   "metadata": {},
   "source": [
    "## Making vector and raster data compatible"
   ]
  },
  {
   "cell_type": "code",
   "execution_count": null,
   "id": "352aeae1-2902-40a4-935e-8326a00bb446",
   "metadata": {},
   "outputs": [],
   "source": []
  },
  {
   "cell_type": "markdown",
   "id": "2afdcbd6-fdff-44cc-8c65-b311c31a9436",
   "metadata": {},
   "source": [
    "## Rasterize vector data"
   ]
  },
  {
   "cell_type": "code",
   "execution_count": null,
   "id": "f2432a44-56d5-4dd7-b783-c84a9fac9e8d",
   "metadata": {},
   "outputs": [],
   "source": []
  },
  {
   "cell_type": "markdown",
   "id": "c7461604-35d3-4681-93af-5cbb3dec92ae",
   "metadata": {},
   "source": [
    "## Calculate zonal statistics"
   ]
  },
  {
   "cell_type": "code",
   "execution_count": null,
   "id": "9b15376e-c1eb-451d-832a-4fc96761a480",
   "metadata": {},
   "outputs": [],
   "source": []
  }
 ],
 "metadata": {
  "kernelspec": {
   "display_name": "Python 3 (ipykernel)",
   "language": "python",
   "name": "python3"
  },
  "language_info": {
   "codemirror_mode": {
    "name": "ipython",
    "version": 3
   },
   "file_extension": ".py",
   "mimetype": "text/x-python",
   "name": "python",
   "nbconvert_exporter": "python",
   "pygments_lexer": "ipython3",
   "version": "3.10.14"
  }
 },
 "nbformat": 4,
 "nbformat_minor": 5
}
