{
 "cells": [
  {
   "cell_type": "markdown",
   "id": "08d85d6d-4b26-4e42-b44b-70553533c9d9",
   "metadata": {},
   "source": [
    "# Parallel raster computations using Dask"
   ]
  },
  {
   "cell_type": "markdown",
   "id": "2f0a5e09-3dc3-4912-9c67-a0142149740f",
   "metadata": {},
   "source": [
    "..."
   ]
  },
  {
   "cell_type": "markdown",
   "id": "8dadf797-243d-452c-88a8-cb1a2e127b30",
   "metadata": {},
   "source": [
    "## Profiling the computation time"
   ]
  },
  {
   "cell_type": "code",
   "execution_count": null,
   "id": "5bfe8e41-827d-428c-8c98-c2f2c68668ee",
   "metadata": {},
   "outputs": [],
   "source": []
  },
  {
   "cell_type": "markdown",
   "id": "37d63564-551d-4bfd-a79f-692eeda70eb6",
   "metadata": {},
   "source": [
    "## Load raster with Dask"
   ]
  },
  {
   "cell_type": "code",
   "execution_count": null,
   "id": "829105c9-a6de-4c82-ad7a-316485f05223",
   "metadata": {},
   "outputs": [],
   "source": []
  },
  {
   "cell_type": "markdown",
   "id": "0580f1c0-27d7-4032-ac31-cec2bbf4f171",
   "metadata": {},
   "source": [
    "## Parallel computations"
   ]
  },
  {
   "cell_type": "code",
   "execution_count": null,
   "id": "6050004b-188d-4861-b1b7-80a74d036f2a",
   "metadata": {},
   "outputs": [],
   "source": []
  }
 ],
 "metadata": {
  "kernelspec": {
   "display_name": "Python 3 (ipykernel)",
   "language": "python",
   "name": "python3"
  },
  "language_info": {
   "codemirror_mode": {
    "name": "ipython",
    "version": 3
   },
   "file_extension": ".py",
   "mimetype": "text/x-python",
   "name": "python",
   "nbconvert_exporter": "python",
   "pygments_lexer": "ipython3",
   "version": "3.10.14"
  }
 },
 "nbformat": 4,
 "nbformat_minor": 5
}
